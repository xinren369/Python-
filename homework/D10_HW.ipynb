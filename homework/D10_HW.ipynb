{
 "cells": [
  {
   "cell_type": "markdown",
   "metadata": {
    "id": "Uf6dEaWpP3lo"
   },
   "source": [
    "作業目標:<br>\n",
    "1. 運用索引找出需要資料<br>\n",
    "2. 合併資料的分法應用"
   ]
  },
  {
   "cell_type": "markdown",
   "metadata": {
    "id": "3rP6NOVVQZuB"
   },
   "source": [
    "作業重點:<br>\n",
    "1. 分辨索引loc、iloc差別\n",
    "2. 分辨合併資料方法的不同，因應不同情況使用Merge, join, concatenate"
   ]
  },
  {
   "cell_type": "markdown",
   "metadata": {
    "id": "02Ld_89FP-4N"
   },
   "source": [
    "題目:<br>\n",
    "讀取STOCK_DAY_0050_202009.csv串聯STOCK_DAY_0050_202010.csv，並且找出open小於close的資料\n"
   ]
  },
  {
   "cell_type": "code",
   "execution_count": 1,
   "metadata": {
    "id": "ysjY4kR5P4rA"
   },
   "outputs": [],
   "source": [
    "import pandas as pd"
   ]
  },
  {
   "cell_type": "code",
   "execution_count": 2,
   "metadata": {
    "id": "hsEDbEogG4DG"
   },
   "outputs": [],
   "source": [
    "#讀取STOCK_DAY_0050_202009.csv、STOCK_DAY_0050_202010.csv\n",
    "STOCK_09 = pd.read_csv('STOCK_DAY_0050_202009.csv')\n",
    "STOCK_10 = pd.read_csv('STOCK_DAY_0050_202010.csv')"
   ]
  },
  {
   "cell_type": "code",
   "execution_count": 3,
   "metadata": {
    "id": "cw3OMgQgG4DG"
   },
   "outputs": [
    {
     "name": "stdout",
     "output_type": "stream",
     "text": [
      "         date    open    high     low   close\n",
      "0   109/09/01  102.45  103.35  101.85  103.35\n",
      "1   109/09/02  103.65  104.05  102.30  103.00\n",
      "2   109/09/03  103.70  104.30  103.20  103.30\n",
      "3   109/09/04  102.00  102.70  101.90  102.55\n",
      "4   109/09/07  102.55  103.05  101.90  102.40\n",
      "5   109/09/08  102.75  103.10  102.45  103.00\n",
      "6   109/09/09  101.75  102.35  101.15  102.30\n",
      "7   109/09/10  102.80  103.35  102.60  103.20\n",
      "8   109/09/11  103.20  103.35  102.80  103.25\n",
      "9   109/09/14  103.50  104.55  103.25  104.55\n",
      "10  109/09/15  104.45  105.20  104.25  104.95\n",
      "11  109/09/16  106.55  107.00  106.35  106.55\n",
      "12  109/09/17  106.05  106.35  105.10  105.40\n",
      "13  109/09/18  105.40  105.70  104.85  105.30\n",
      "14  109/09/21  105.20  105.90  104.35  104.45\n",
      "15  109/09/22  104.30  104.30  102.95  103.10\n",
      "16  109/09/23  103.50  103.50  102.40  102.95\n",
      "17  109/09/24  101.55  101.80  100.25  100.45\n",
      "18  109/09/25  100.75  101.45  100.05  100.65\n",
      "19  109/09/28  101.35  102.30  101.00  102.30\n",
      "20  109/09/29  102.75  103.50  102.15  102.55\n",
      "21  109/09/30  102.75  103.45  102.60  103.00\n",
      "0   109/10/05  103.45  104.05  103.00  103.05\n",
      "1   109/10/06  104.00  104.35  103.85  104.25\n",
      "2   109/10/07  104.00  105.00  103.50  104.80\n",
      "3   109/10/08  105.45  106.35  105.30  106.20\n",
      "4   109/10/12  106.70  107.70  106.70  107.05\n",
      "5   109/10/13  107.35  107.60  106.20  107.10\n",
      "6   109/10/14  107.05  107.20  106.45  106.70\n",
      "7   109/10/15  106.50  106.50  105.10  105.70\n",
      "8   109/10/16  105.70  106.30  105.10  105.25\n",
      "9   109/10/19  105.65  106.60  105.60  106.60\n",
      "10  109/10/20  106.40  106.45  106.00  106.00\n",
      "11  109/10/21  106.00  106.55  105.65  105.95\n",
      "12  109/10/22  105.70  106.10  105.50  106.10\n",
      "13  109/10/23  106.50  106.65  105.65  106.10\n",
      "14  109/10/26  106.10  106.60  105.80  106.10\n",
      "15  109/10/27  105.75  105.75  105.15  105.50\n",
      "16  109/10/28  105.50  105.50  104.80  105.00\n",
      "17  109/10/29  104.00  104.10  103.25  103.85\n",
      "18  109/10/30  103.55  103.60  102.70  103.00\n"
     ]
    }
   ],
   "source": [
    "#串聯\n",
    "STOCK_concatenate = pd.concat([STOCK_09, STOCK_10],axis=0)\n",
    "print (STOCK_concatenate)"
   ]
  },
  {
   "cell_type": "code",
   "execution_count": 4,
   "metadata": {
    "executionInfo": {
     "elapsed": 957,
     "status": "ok",
     "timestamp": 1610348842287,
     "user": {
      "displayName": "献竤黃",
      "photoUrl": "",
      "userId": "07529243043474362942"
     },
     "user_tz": -480
    },
    "id": "LBBLV7TaG4DH",
    "scrolled": true
   },
   "outputs": [
    {
     "name": "stdout",
     "output_type": "stream",
     "text": [
      "      open   close\n",
      "0   102.45  103.35\n",
      "3   102.00  102.55\n",
      "5   102.75  103.00\n",
      "6   101.75  102.30\n",
      "7   102.80  103.20\n",
      "8   103.20  103.25\n",
      "9   103.50  104.55\n",
      "10  104.45  104.95\n",
      "19  101.35  102.30\n",
      "21  102.75  103.00\n",
      "1   104.00  104.25\n",
      "2   104.00  104.80\n",
      "3   105.45  106.20\n",
      "4   106.70  107.05\n",
      "9   105.65  106.60\n",
      "12  105.70  106.10\n"
     ]
    }
   ],
   "source": [
    "#找出open小於close的資料\n",
    "open_less_than_close = STOCK_concatenate.loc[(STOCK_concatenate.open)<(STOCK_concatenate.close),['open','close']]\n",
    "print (open_less_than_close)"
   ]
  },
  {
   "cell_type": "code",
   "execution_count": null,
   "metadata": {
    "id": "tZaFA68VG4DH"
   },
   "outputs": [],
   "source": []
  }
 ],
 "metadata": {
  "colab": {
   "collapsed_sections": [],
   "name": "pandas_select_merge_hw題目.ipynb",
   "provenance": []
  },
  "kernelspec": {
   "display_name": "Python 3",
   "language": "python",
   "name": "python3"
  },
  "language_info": {
   "codemirror_mode": {
    "name": "ipython",
    "version": 3
   },
   "file_extension": ".py",
   "mimetype": "text/x-python",
   "name": "python",
   "nbconvert_exporter": "python",
   "pygments_lexer": "ipython3",
   "version": "3.8.5"
  }
 },
 "nbformat": 4,
 "nbformat_minor": 1
}
